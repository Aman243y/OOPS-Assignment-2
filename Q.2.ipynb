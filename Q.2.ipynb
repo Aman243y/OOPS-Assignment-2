{
 "cells": [
  {
   "cell_type": "code",
   "execution_count": null,
   "id": "cf7f8325-241e-4411-aa0e-6f1f22185330",
   "metadata": {},
   "outputs": [],
   "source": [
    "#Abstraction refers to the process of hiding the complex implementation details of a class and showing only the essential features or functionalities to the users. It provides a high-level interface for interacting with objects, abstracting away unnecessary complexities and promoting code simplicity and flexibility."
   ]
  },
  {
   "cell_type": "code",
   "execution_count": 1,
   "id": "484d7296-af00-4307-a376-a17054045c13",
   "metadata": {},
   "outputs": [],
   "source": [
    "class Car:\n",
    "    def start_engine(self):\n",
    "        pass \n",
    "    \n",
    "    def accelerate(self):\n",
    "        pass  \n",
    "    \n",
    "    def stop(self):\n",
    "        pass  "
   ]
  },
  {
   "cell_type": "code",
   "execution_count": 2,
   "id": "8a34aa53-9c2d-4f1c-9018-d8c2ec6781eb",
   "metadata": {},
   "outputs": [],
   "source": [
    "my_car = Car()\n",
    "my_car.start_engine()\n",
    "my_car.accelerate()\n",
    "my_car.stop()"
   ]
  },
  {
   "cell_type": "code",
   "execution_count": null,
   "id": "014166ce-1d55-4b05-a6fd-a28582b21347",
   "metadata": {},
   "outputs": [],
   "source": [
    "#Encapsulation, on the other hand, refers to the bundling of data (attributes) and methods (functions) that operate on the data into a single unit, called a class. It hides the internal state of an object and only exposes the necessary functionalities to interact with it. Encapsulation helps in protecting the integrity of the data by preventing direct access from outside the class."
   ]
  },
  {
   "cell_type": "code",
   "execution_count": 3,
   "id": "28532967-7240-4274-bf0f-b95cde2a2e87",
   "metadata": {},
   "outputs": [],
   "source": [
    "class Car:\n",
    "    def __init__(self, make, model, year):\n",
    "        self._make = make    # Private attribute\n",
    "        self._model = model  # Private attribute\n",
    "        self._year = year    # Private attribute\n",
    "    \n",
    "    def get_make(self):\n",
    "        return self._make\n",
    "    \n",
    "    def set_make(self, make):\n",
    "        self._make = make"
   ]
  },
  {
   "cell_type": "code",
   "execution_count": 4,
   "id": "68a1b014-31ae-4a53-b49f-049be065c2f2",
   "metadata": {},
   "outputs": [
    {
     "name": "stdout",
     "output_type": "stream",
     "text": [
      "Toyota\n",
      "Honda\n"
     ]
    }
   ],
   "source": [
    "my_car = Car(\"Toyota\", \"Corolla\", 2020)\n",
    "print(my_car.get_make())  \n",
    "my_car.set_make(\"Honda\")\n",
    "print(my_car.get_make())"
   ]
  },
  {
   "cell_type": "code",
   "execution_count": null,
   "id": "374fa869-4709-484d-a3dc-8dce2ae3843a",
   "metadata": {},
   "outputs": [],
   "source": []
  }
 ],
 "metadata": {
  "kernelspec": {
   "display_name": "Python 3 (ipykernel)",
   "language": "python",
   "name": "python3"
  },
  "language_info": {
   "codemirror_mode": {
    "name": "ipython",
    "version": 3
   },
   "file_extension": ".py",
   "mimetype": "text/x-python",
   "name": "python",
   "nbconvert_exporter": "python",
   "pygments_lexer": "ipython3",
   "version": "3.10.8"
  }
 },
 "nbformat": 4,
 "nbformat_minor": 5
}
