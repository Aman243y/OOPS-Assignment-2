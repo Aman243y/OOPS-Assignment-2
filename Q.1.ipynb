{
 "cells": [
  {
   "cell_type": "code",
   "execution_count": null,
   "id": "5e49ce6f-198f-4d35-93dc-2dbaed6e8d9e",
   "metadata": {},
   "outputs": [],
   "source": [
    "#Abstraction is a fundamental concept in object-oriented programming that involves hiding the complex implementation details of a class and showing only essential features ."
   ]
  },
  {
   "cell_type": "code",
   "execution_count": 1,
   "id": "282dac94-54c2-4fc9-97bf-371cdb484f90",
   "metadata": {},
   "outputs": [],
   "source": [
    "class Shape:\n",
    "    def __init__(self,color):\n",
    "        self.color=color\n",
    "    def draw(self):\n",
    "        pass"
   ]
  },
  {
   "cell_type": "code",
   "execution_count": 3,
   "id": "69781b0e-8b73-401c-9073-0ff4c24511f4",
   "metadata": {},
   "outputs": [],
   "source": [
    "class Circle(Shape):\n",
    "    def __init__(self,color,radius):\n",
    "        super().__init__(color)\n",
    "        self.radius=radius\n",
    "        \n",
    "        def draw(self):\n",
    "            print(f\"Drawing a {self.color} circle with radius {self.radius}\")\n",
    " "
   ]
  },
  {
   "cell_type": "code",
   "execution_count": 11,
   "id": "bbe4f88c-06b4-4602-9c5f-86868deecada",
   "metadata": {},
   "outputs": [],
   "source": [
    "           \n",
    "class Rectangle(Shape):\n",
    "    def __init__(self,color,width,heigth):\n",
    "        super().__init__(color)\n",
    "        self.width=width\n",
    "        self.heigth=heigth\n",
    "        \n",
    "    def draw(self):\n",
    "        print(f\"Drawing  a {self.color} rectangle with  {self.width} and heigth {self.heigth}\")"
   ]
  },
  {
   "cell_type": "code",
   "execution_count": 12,
   "id": "716a9741-373c-44b8-b994-24e9eacef5b3",
   "metadata": {},
   "outputs": [],
   "source": [
    "circle = Circle(\"red\", 5)\n",
    "rectangle = Rectangle(\"blue\", 10, 8)"
   ]
  },
  {
   "cell_type": "code",
   "execution_count": 13,
   "id": "0bc5d0cf-89a2-4b1b-9797-4b0945e1c61c",
   "metadata": {},
   "outputs": [
    {
     "name": "stdout",
     "output_type": "stream",
     "text": [
      "Drawing  a blue rectangle with  10 and heigth 8\n"
     ]
    }
   ],
   "source": [
    "circle.draw()    \n",
    "rectangle.draw()"
   ]
  },
  {
   "cell_type": "code",
   "execution_count": null,
   "id": "f6c5f0b4-9115-4add-b459-9ba10aee2a07",
   "metadata": {},
   "outputs": [],
   "source": []
  }
 ],
 "metadata": {
  "kernelspec": {
   "display_name": "Python 3 (ipykernel)",
   "language": "python",
   "name": "python3"
  },
  "language_info": {
   "codemirror_mode": {
    "name": "ipython",
    "version": 3
   },
   "file_extension": ".py",
   "mimetype": "text/x-python",
   "name": "python",
   "nbconvert_exporter": "python",
   "pygments_lexer": "ipython3",
   "version": "3.10.8"
  }
 },
 "nbformat": 4,
 "nbformat_minor": 5
}
