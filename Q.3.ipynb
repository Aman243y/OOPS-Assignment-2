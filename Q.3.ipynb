{
 "cells": [
  {
   "cell_type": "code",
   "execution_count": null,
   "id": "dde57758-31b7-474d-9b5c-9f2258d6e460",
   "metadata": {},
   "outputs": [],
   "source": [
    "#The abc module in Python stands for \"Abstract Base Classes.\" It provides infrastructure for defining abstract base classes in Python. "
   ]
  },
  {
   "cell_type": "code",
   "execution_count": 2,
   "id": "be9b9ff4-caaf-428e-b15a-3926d61f18d9",
   "metadata": {},
   "outputs": [],
   "source": [
    "#\n",
    "#The abc module in Python stands for \"Abstract Base Classes.\" It provides infrastructure for defining abstract base classes in Python. Abstract base classes are classes that cannot be instantiated directly but are meant to be subclassed by other classes. They define a blueprint for other classes to follow, specifying a set of methods that must be implemented by the subclasses.\n",
    "\n",
    "#The abc module is used for several purposes:\n",
    "\n",
    "#Defining abstract base classes: It allows you to define abstract base classes using the ABC class as a metaclass or by inheriting from ABC.\n",
    "\n",
    "#Defining abstract methods: It provides the abstractmethod decorator, which allows you to mark methods as abstract, indicating that they must be implemented by the subclasses."
   ]
  },
  {
   "cell_type": "code",
   "execution_count": null,
   "id": "402070ef-c70f-4123-b57e-d0ece9f90954",
   "metadata": {},
   "outputs": [],
   "source": []
  }
 ],
 "metadata": {
  "kernelspec": {
   "display_name": "Python 3 (ipykernel)",
   "language": "python",
   "name": "python3"
  },
  "language_info": {
   "codemirror_mode": {
    "name": "ipython",
    "version": 3
   },
   "file_extension": ".py",
   "mimetype": "text/x-python",
   "name": "python",
   "nbconvert_exporter": "python",
   "pygments_lexer": "ipython3",
   "version": "3.10.8"
  }
 },
 "nbformat": 4,
 "nbformat_minor": 5
}
