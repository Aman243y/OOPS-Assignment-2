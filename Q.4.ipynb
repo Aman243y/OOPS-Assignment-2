{
 "cells": [
  {
   "cell_type": "code",
   "execution_count": null,
   "id": "2af36b50-8fff-4d33-85e9-090d64d89182",
   "metadata": {},
   "outputs": [],
   "source": [
    "'''\n",
    "Define a Class: Create a class that represents the abstraction you want to achieve. This class should encapsulate the data and provide methods to interact with that data.\n",
    "\n",
    "Hide Implementation Details: Encapsulate the data within the class by making the attributes private or protected. This hides the implementation details from users of the class.\n",
    "\n",
    "Provide a Public Interface: Define public methods in the class to allow users to interact with the data. These methods should provide a high-level interface, abstracting away the implementation details.\n",
    "\n",
    "Use Getter and Setter Methods: If necessary, provide getter and setter methods to allow controlled access to the private attributes. This allows users to retrieve and modify the data in a controlled manner.\n",
    "'''"
   ]
  }
 ],
 "metadata": {
  "kernelspec": {
   "display_name": "Python 3 (ipykernel)",
   "language": "python",
   "name": "python3"
  },
  "language_info": {
   "codemirror_mode": {
    "name": "ipython",
    "version": 3
   },
   "file_extension": ".py",
   "mimetype": "text/x-python",
   "name": "python",
   "nbconvert_exporter": "python",
   "pygments_lexer": "ipython3",
   "version": "3.10.8"
  }
 },
 "nbformat": 4,
 "nbformat_minor": 5
}
